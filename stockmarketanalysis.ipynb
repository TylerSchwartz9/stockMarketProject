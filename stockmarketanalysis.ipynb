{
 "cells": [
  {
   "cell_type": "code",
   "execution_count": null,
   "metadata": {},
   "outputs": [],
   "source": [
    "!pip install pandas\n",
    "!pip install yfinance\n",
    "!pip install requests\n",
    "!pip install streamlit\n",
    "\n",
    "import pandas as pd\n",
    "import yfinance as yf\n",
    "import requests\n",
    "from datetime import datetime\n",
    "import time\n",
    "import streamlit as st"
   ]
  },
  {
   "cell_type": "code",
   "execution_count": 3,
   "metadata": {},
   "outputs": [],
   "source": [
    "ticker = 'ROOT'\n",
    "api_key = '39046e3ba5fd49fca9f2a6a4f4defa40'\n",
    "  "
   ]
  },
  {
   "cell_type": "code",
   "execution_count": 5,
   "metadata": {},
   "outputs": [
    {
     "name": "stdout",
     "output_type": "stream",
     "text": [
      "{'meta': {'symbol': 'ROOT', 'interval': '1min', 'currency': 'USD', 'exchange_timezone': 'America/New_York', 'exchange': 'NASDAQ', 'mic_code': 'XNGS', 'type': 'Common Stock'}, 'values': [{'datetime': '2024-02-22 12:51:00', 'open': '12.64140', 'high': '12.64140', 'low': '12.64140', 'close': '12.64140', 'volume': '0'}, {'datetime': '2024-02-22 12:50:00', 'open': '12.59000', 'high': '12.78000', 'low': '12.59000', 'close': '12.78000', 'volume': '3815'}, {'datetime': '2024-02-22 12:49:00', 'open': '12.59000', 'high': '12.64000', 'low': '12.59000', 'close': '12.62000', 'volume': '953'}, {'datetime': '2024-02-22 12:48:00', 'open': '12.64000', 'high': '12.64000', 'low': '12.64000', 'close': '12.64000', 'volume': '811'}, {'datetime': '2024-02-22 12:47:00', 'open': '12.57500', 'high': '12.60000', 'low': '12.55010', 'close': '12.60000', 'volume': '4073'}, {'datetime': '2024-02-22 12:46:00', 'open': '12.58500', 'high': '12.63670', 'low': '12.57500', 'close': '12.57500', 'volume': '1987'}, {'datetime': '2024-02-22 12:45:00', 'open': '12.63000', 'high': '12.64120', 'low': '12.54000', 'close': '12.64000', 'volume': '3159'}, {'datetime': '2024-02-22 12:44:00', 'open': '12.62000', 'high': '12.65000', 'low': '12.62000', 'close': '12.63000', 'volume': '5908'}, {'datetime': '2024-02-22 12:42:00', 'open': '12.73600', 'high': '12.74000', 'low': '12.67000', 'close': '12.67000', 'volume': '7666'}, {'datetime': '2024-02-22 12:41:00', 'open': '12.71460', 'high': '12.71460', 'low': '12.71460', 'close': '12.71460', 'volume': '482'}, {'datetime': '2024-02-22 12:40:00', 'open': '12.73010', 'high': '12.73010', 'low': '12.73000', 'close': '12.73000', 'volume': '2603'}, {'datetime': '2024-02-22 12:39:00', 'open': '12.72500', 'high': '12.80000', 'low': '12.72500', 'close': '12.80000', 'volume': '8342'}, {'datetime': '2024-02-22 12:38:00', 'open': '12.74200', 'high': '12.74200', 'low': '12.71000', 'close': '12.71000', 'volume': '5468'}, {'datetime': '2024-02-22 12:37:00', 'open': '12.80000', 'high': '12.83000', 'low': '12.61970', 'close': '12.71000', 'volume': '17674'}, {'datetime': '2024-02-22 12:36:00', 'open': '12.76000', 'high': '12.78000', 'low': '12.75000', 'close': '12.77000', 'volume': '2674'}, {'datetime': '2024-02-22 12:35:00', 'open': '12.79080', 'high': '12.80800', 'low': '12.79080', 'close': '12.80800', 'volume': '6010'}, {'datetime': '2024-02-22 12:34:00', 'open': '12.79000', 'high': '12.87000', 'low': '12.74010', 'close': '12.80000', 'volume': '11975'}, {'datetime': '2024-02-22 12:33:00', 'open': '12.78000', 'high': '12.82000', 'low': '12.73550', 'close': '12.76500', 'volume': '13082'}, {'datetime': '2024-02-22 12:32:00', 'open': '12.71000', 'high': '12.82000', 'low': '12.70000', 'close': '12.78000', 'volume': '20682'}, {'datetime': '2024-02-22 12:31:00', 'open': '12.50000', 'high': '12.71000', 'low': '12.46000', 'close': '12.71000', 'volume': '13189'}, {'datetime': '2024-02-22 12:30:00', 'open': '12.47500', 'high': '12.47500', 'low': '12.40450', 'close': '12.40450', 'volume': '1560'}, {'datetime': '2024-02-22 12:29:00', 'open': '12.49000', 'high': '12.50500', 'low': '12.47000', 'close': '12.47000', 'volume': '3134'}, {'datetime': '2024-02-22 12:28:00', 'open': '12.49000', 'high': '12.52000', 'low': '12.49000', 'close': '12.51080', 'volume': '3133'}, {'datetime': '2024-02-22 12:27:00', 'open': '12.52000', 'high': '12.52000', 'low': '12.49000', 'close': '12.49000', 'volume': '2121'}, {'datetime': '2024-02-22 12:26:00', 'open': '12.55000', 'high': '12.55000', 'low': '12.51000', 'close': '12.51000', 'volume': '1314'}, {'datetime': '2024-02-22 12:25:00', 'open': '12.55500', 'high': '12.55550', 'low': '12.53500', 'close': '12.53500', 'volume': '659'}, {'datetime': '2024-02-22 12:24:00', 'open': '12.49000', 'high': '12.53500', 'low': '12.49000', 'close': '12.53500', 'volume': '1449'}, {'datetime': '2024-02-22 12:23:00', 'open': '12.52500', 'high': '12.57050', 'low': '12.47000', 'close': '12.52000', 'volume': '1252'}, {'datetime': '2024-02-22 12:22:00', 'open': '12.54000', 'high': '12.54010', 'low': '12.50000', 'close': '12.50000', 'volume': '12362'}, {'datetime': '2024-02-22 12:21:00', 'open': '12.60000', 'high': '12.60000', 'low': '12.54000', 'close': '12.54010', 'volume': '7595'}], 'status': 'ok'}\n"
     ]
    }
   ],
   "source": [
    "# get a stocks current trading volume\n",
    "\n",
    "def get_stock_volume(ticker_symbol, api):\n",
    "    url = f\"https://api.twelvedata.com/time_series?symbol={ticker_symbol}&interval=1min&apikey={api}\"\n",
    "    response = requests.get(url).json()\n",
    "    print(response)\n",
    "\n",
    "#     # Check if the response contains the 'values' key\n",
    "#     if 'values' in response:\n",
    "#         data = response['values']\n",
    "\n",
    "#         # Assuming 'datetime' is the key for the date times and 'volume' is the key for the volume in the response\n",
    "#         date_volume_list = [(datetime.fromisoformat(candle['datetime']), float(candle['volume'])) for candle in data]\n",
    "\n",
    "#         # Sort the list by most recent time\n",
    "#         sorted_data = sorted(date_volume_list, key=lambda x: x[0], reverse=True)\n",
    "\n",
    "#         # Return the volume corresponding to the most recent time\n",
    "#         if sorted_data:\n",
    "#             most_recent_time, most_recent_volume = sorted_data[0]\n",
    "#             return most_recent_volume\n",
    "#         else:\n",
    "#             return None\n",
    "#     else:\n",
    "#         print(\"Error: Response does not contain 'values' key\")\n",
    "#         return None\n",
    "\n",
    "# print(get_stock_volume(ticker, api_key))\n",
    "get_stock_volume(ticker,api_key)"
   ]
  },
  {
   "cell_type": "code",
   "execution_count": 7,
   "metadata": {},
   "outputs": [
    {
     "name": "stdout",
     "output_type": "stream",
     "text": [
      "1987720.667\n"
     ]
    }
   ],
   "source": [
    "# need to find the average volume of a stock over a certain period of time\n",
    "\n",
    "def average_trading_volume(ticker_symbol, duration_days):\n",
    "    stock_data = yf.download(ticker_symbol, period = f\"{duration_days}d\", progress = False)\n",
    "    average_volume = round(float(stock_data['Volume'].mean()), 3)\n",
    "    return average_volume\n",
    "\n",
    "average_volume = float(average_trading_volume(ticker, 3))\n",
    "print(average_volume)\n"
   ]
  },
  {
   "cell_type": "code",
   "execution_count": 8,
   "metadata": {},
   "outputs": [],
   "source": [
    "# determine if current trading volume if 5x average trading volume over the last 30 days\n",
    "\n",
    "def check_volume():\n",
    "    recent_volume = float(get_stock_volume(ticker, api_key))\n",
    "    average_volume = float(average_trading_volume(ticker, 30))\n",
    "\n",
    "    if (recent_volume >= (5 * average_volume)):\n",
    "        return True\n",
    "    else:\n",
    "        return False\n"
   ]
  },
  {
   "cell_type": "code",
   "execution_count": 9,
   "metadata": {},
   "outputs": [
    {
     "name": "stdout",
     "output_type": "stream",
     "text": [
      "12.6439\n"
     ]
    }
   ],
   "source": [
    "# gets a stocks most updated price\n",
    "\n",
    "def get_stock_price(ticker_symbol, api):\n",
    "    url = f\"https://api.twelvedata.com/price?symbol={ticker_symbol}&apikey={api}\"\n",
    "    response = requests.get(url).json()\n",
    "    price = response['price']\n",
    "    return price\n",
    "\n",
    "current_price = float(get_stock_price(ticker, api_key))\n",
    "print(current_price)\n"
   ]
  },
  {
   "cell_type": "code",
   "execution_count": 10,
   "metadata": {},
   "outputs": [
    {
     "name": "stdout",
     "output_type": "stream",
     "text": [
      "11.64\n"
     ]
    }
   ],
   "source": [
    "# finds the first open price\n",
    "\n",
    "def first_open_price(ticker_symbol, api):\n",
    "    url = f\"https://api.twelvedata.com/time_series?symbol={ticker_symbol}&interval=1day&apikey={api}\"\n",
    "    response = requests.get(url).json()\n",
    "   \n",
    "\n",
    "    # Check if the response contains the 'values' key\n",
    "    if 'values' in response:\n",
    "        data = response['values']\n",
    "\n",
    "        # Assuming 'datetime' is the key for the date times and 'open' is the key for the opening prices in the response\n",
    "        datetime_open_list = [(datetime.fromisoformat(candle['datetime']), float(candle['open'])) for candle in data]\n",
    "\n",
    "        # Sort the list by datetime in descending order\n",
    "        sorted_data = sorted(datetime_open_list, key=lambda x: x[0], reverse=True)\n",
    "\n",
    "        # Return the opening price corresponding to the most recent day\n",
    "        if sorted_data:\n",
    "            most_recent_datetime, most_recent_open_price = sorted_data[0]\n",
    "            return most_recent_open_price\n",
    "        else:\n",
    "            return None\n",
    "    else:\n",
    "        print(\"Error: Response does not contain 'values' key\")\n",
    "        return None\n",
    "    \n",
    "\n",
    "\n",
    "first_open = first_open_price(ticker,api_key)\n",
    "print(first_open)\n",
    "\n",
    "    \n",
    "    "
   ]
  },
  {
   "cell_type": "code",
   "execution_count": 184,
   "metadata": {},
   "outputs": [
    {
     "name": "stdout",
     "output_type": "stream",
     "text": [
      "0.499787577784752\n"
     ]
    }
   ],
   "source": [
    "# calculating the percent change between recent price and opening price\n",
    "\n",
    "def calculating_percent_change(ticker, api):\n",
    "    opening_price = float(first_open_price(ticker, api))\n",
    "    current_price = float(get_stock_price(ticker, api))\n",
    "    percent_change = ((current_price - opening_price) / opening_price) * 100\n",
    "    return percent_change\n",
    "   \n",
    "\n",
    "print(calculating_percent_change(ticker, api_key))\n",
    "\n",
    "\n",
    "\n"
   ]
  },
  {
   "cell_type": "code",
   "execution_count": 170,
   "metadata": {},
   "outputs": [
    {
     "name": "stdout",
     "output_type": "stream",
     "text": [
      "{'meta': {'symbol': 'MSFT', 'interval': '1day', 'currency': 'USD', 'exchange_timezone': 'America/New_York', 'exchange': 'NASDAQ', 'mic_code': 'XNGS', 'type': 'Common Stock'}, 'values': [{'datetime': '2024-02-21', 'open': '400.17001', 'high': '402.29001', 'low': '397.22000', 'close': '402.17999', 'volume': '17754737'}, {'datetime': '2024-02-20', 'open': '403.23999', 'high': '404.48999', 'low': '398.01001', 'close': '402.79001', 'volume': '24307900'}, {'datetime': '2024-02-16', 'open': '407.95999', 'high': '408.29001', 'low': '403.44000', 'close': '404.06000', 'volume': '22281100'}, {'datetime': '2024-02-15', 'open': '408.14001', 'high': '409.13000', 'low': '404.29001', 'close': '406.56000', 'volume': '21825500'}, {'datetime': '2024-02-14', 'open': '408.07001', 'high': '409.84000', 'low': '404.57001', 'close': '409.48999', 'volume': '20401200'}, {'datetime': '2024-02-13', 'open': '404.94000', 'high': '410.07001', 'low': '403.39001', 'close': '406.32001', 'volume': '27824900'}, {'datetime': '2024-02-12', 'open': '420.56000', 'high': '420.73999', 'low': '414.75000', 'close': '415.26001', 'volume': '21202900'}, {'datetime': '2024-02-09', 'open': '415.25000', 'high': '420.82001', 'low': '415.09000', 'close': '420.54999', 'volume': '22032800'}, {'datetime': '2024-02-08', 'open': '414.04999', 'high': '415.56000', 'low': '412.53000', 'close': '414.10999', 'volume': '21225300'}, {'datetime': '2024-02-07', 'open': '407.44000', 'high': '414.29999', 'low': '407.39999', 'close': '414.04999', 'volume': '22340500'}, {'datetime': '2024-02-06', 'open': '405.88000', 'high': '407.97000', 'low': '402.91000', 'close': '405.48999', 'volume': '18382600'}, {'datetime': '2024-02-05', 'open': '409.89999', 'high': '411.16000', 'low': '403.98999', 'close': '405.64999', 'volume': '25352300'}, {'datetime': '2024-02-02', 'open': '403.81000', 'high': '412.64999', 'low': '403.56000', 'close': '411.22000', 'volume': '28245000'}, {'datetime': '2024-02-01', 'open': '401.82999', 'high': '408.00000', 'low': '401.79999', 'close': '403.78000', 'volume': '30657700'}, {'datetime': '2024-01-31', 'open': '406.95999', 'high': '415.32001', 'low': '397.20999', 'close': '397.57999', 'volume': '47871100'}, {'datetime': '2024-01-30', 'open': '412.26001', 'high': '413.04999', 'low': '406.45001', 'close': '408.59000', 'volume': '33477600'}, {'datetime': '2024-01-29', 'open': '406.06000', 'high': '409.98001', 'low': '404.32999', 'close': '409.72000', 'volume': '24510200'}, {'datetime': '2024-01-26', 'open': '404.37000', 'high': '406.17001', 'low': '402.42999', 'close': '403.92999', 'volume': '17803300'}, {'datetime': '2024-01-25', 'open': '404.32001', 'high': '407.01001', 'low': '402.53000', 'close': '404.87000', 'volume': '21021200'}, {'datetime': '2024-01-24', 'open': '401.54001', 'high': '405.63000', 'low': '400.45001', 'close': '402.56000', 'volume': '24867000'}, {'datetime': '2024-01-23', 'open': '395.75000', 'high': '399.38000', 'low': '393.92999', 'close': '398.89999', 'volume': '20525900'}, {'datetime': '2024-01-22', 'open': '400.01999', 'high': '400.62000', 'low': '393.59000', 'close': '396.51001', 'volume': '27016900'}, {'datetime': '2024-01-19', 'open': '395.76001', 'high': '398.67001', 'low': '393.50000', 'close': '398.67001', 'volume': '29272000'}, {'datetime': '2024-01-18', 'open': '391.72000', 'high': '393.98999', 'low': '390.12000', 'close': '393.87000', 'volume': '23392100'}, {'datetime': '2024-01-17', 'open': '387.98001', 'high': '390.10999', 'low': '384.81000', 'close': '389.47000', 'volume': '22234100'}, {'datetime': '2024-01-16', 'open': '393.66000', 'high': '394.03000', 'low': '387.62000', 'close': '390.26999', 'volume': '27202300'}, {'datetime': '2024-01-12', 'open': '385.48999', 'high': '388.67999', 'low': '384.64999', 'close': '388.47000', 'volume': '21645700'}, {'datetime': '2024-01-11', 'open': '386.00000', 'high': '390.67999', 'low': '380.38000', 'close': '384.63000', 'volume': '27850800'}, {'datetime': '2024-01-10', 'open': '376.37000', 'high': '384.17001', 'low': '376.32001', 'close': '382.76999', 'volume': '25514200'}, {'datetime': '2024-01-09', 'open': '372.01001', 'high': '375.98999', 'low': '371.19000', 'close': '375.79001', 'volume': '20830000'}], 'status': 'ok'}\n"
     ]
    }
   ],
   "source": [
    "# prints details \n",
    "\n",
    "def print_details(ticker_symbol,api):\n",
    "    url = f\"https://api.twelvedata.com/time_series?symbol={ticker_symbol}&interval=1day&apikey={api}\"\n",
    "    response = requests.get(url).json()\n",
    "    print(response)\n",
    "\n",
    "print_details(ticker, api_key)"
   ]
  },
  {
   "cell_type": "code",
   "execution_count": 186,
   "metadata": {},
   "outputs": [],
   "source": [
    "# Trying to put it all together\n",
    "\n",
    "def stock_quality_checker(ticker, api_key):\n",
    "    symbol = ticker\n",
    "    result = None\n",
    "    max_iterations = 800\n",
    "    iterations = 0\n",
    "    while iterations < max_iterations:\n",
    "        time.sleep(30)\n",
    "        # calling check_volume function // returns boolean after checking if current volume is 5x the 30 day average volume\n",
    "        enough_volume = check_volume()\n",
    "        # calling the calculating_percent_change function // returns the percent change from stock opening to current price\n",
    "        percent_change = calculating_percent_change(ticker, api_key)\n",
    "        # calling the current_price function // returns stock's current price\n",
    "        current_price = get_stock_price(ticker, api_key)\n",
    "        if enough_volume and percent_change >= 10 and 1 <= current_price <= 20:\n",
    "            result = symbol\n",
    "\n",
    "        iterations +=1  \n",
    "\n",
    "    return result\n",
    "        \n",
    "    \n",
    "    \n",
    "\n"
   ]
  }
 ],
 "metadata": {
  "kernelspec": {
   "display_name": "Python 3",
   "language": "python",
   "name": "python3"
  },
  "language_info": {
   "codemirror_mode": {
    "name": "ipython",
    "version": 3
   },
   "file_extension": ".py",
   "mimetype": "text/x-python",
   "name": "python",
   "nbconvert_exporter": "python",
   "pygments_lexer": "ipython3",
   "version": "3.12.1"
  }
 },
 "nbformat": 4,
 "nbformat_minor": 2
}
